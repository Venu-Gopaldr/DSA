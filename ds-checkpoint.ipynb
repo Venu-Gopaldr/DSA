{
 "cells": [
  {
   "cell_type": "markdown",
   "id": "81c8d62f",
   "metadata": {},
   "source": [
    "# lists"
   ]
  },
  {
   "cell_type": "code",
   "execution_count": null,
   "id": "67d0453a",
   "metadata": {},
   "outputs": [],
   "source": [
    "list1 = ['bio','chem',1947,2000]"
   ]
  },
  {
   "cell_type": "markdown",
   "id": "4abce678",
   "metadata": {},
   "source": [
    "# accessing values"
   ]
  },
  {
   "cell_type": "code",
   "execution_count": null,
   "id": "52e4c66c",
   "metadata": {},
   "outputs": [],
   "source": [
    "print(list)"
   ]
  },
  {
   "cell_type": "code",
   "execution_count": null,
   "id": "7a07cfa6",
   "metadata": {},
   "outputs": [],
   "source": [
    "list1[2]"
   ]
  },
  {
   "cell_type": "markdown",
   "id": "a65c1c6b",
   "metadata": {},
   "source": [
    "# updating values"
   ]
  },
  {
   "cell_type": "code",
   "execution_count": null,
   "id": "19ed4b32",
   "metadata": {},
   "outputs": [],
   "source": [
    "print(list)\n",
    "list[3] = 2003\n",
    "print(list)"
   ]
  },
  {
   "cell_type": "markdown",
   "id": "75fda7b1",
   "metadata": {},
   "source": [
    "# deleting list element"
   ]
  },
  {
   "cell_type": "code",
   "execution_count": null,
   "id": "37c7bde5",
   "metadata": {},
   "outputs": [],
   "source": [
    "list.remove(1947)\n",
    "print(list)"
   ]
  },
  {
   "cell_type": "markdown",
   "id": "de43602e",
   "metadata": {},
   "source": [
    "# tuple"
   ]
  },
  {
   "cell_type": "code",
   "execution_count": null,
   "id": "c0fac7d6",
   "metadata": {},
   "outputs": [],
   "source": [
    "t = ('bio','chem',1947,2000)\n",
    "\n",
    "t1 = ('vg','bk')\n",
    "t2 = t + t1 \n",
    "\n",
    "print(t2)   #adding two tuples\n",
    "\n",
    "print(t[2])  #accessing each element\n",
    "\n",
    "del(t1)   #deleing whole tuple since it is immutable"
   ]
  },
  {
   "cell_type": "markdown",
   "id": "3edbfe19",
   "metadata": {},
   "source": [
    "# dictionary"
   ]
  },
  {
   "cell_type": "code",
   "execution_count": null,
   "id": "36d98210",
   "metadata": {},
   "outputs": [],
   "source": [
    "d = {1: 'bio',\n",
    "    2: 'chem',\n",
    "    3:1947,\n",
    "    4:2000}\n",
    "\n",
    "print(d[3])\n",
    "\n",
    "for i in d.items():   #accessing\n",
    "    print(i)\n",
    "    \n",
    "    \n",
    "for i  in d.values():\n",
    "    print(i)\n",
    "    \n",
    "    \n",
    "for i in d.keys():\n",
    "    print(i)\n",
    "    \n",
    "    \n",
    "d[4] = 2003    #updating\n",
    "\n",
    "print(d)\n",
    "\n",
    "d.clear()   #deleting\n",
    "print(d)"
   ]
  },
  {
   "cell_type": "markdown",
   "id": "6911c285",
   "metadata": {},
   "source": [
    "# arrays"
   ]
  },
  {
   "cell_type": "code",
   "execution_count": null,
   "id": "2dc74690",
   "metadata": {},
   "outputs": [],
   "source": [
    "from array import*\n",
    "\n",
    "a = [[1,2,3,4],[5,6,7,8]]\n",
    "\n",
    "print(a[1][2])"
   ]
  },
  {
   "cell_type": "code",
   "execution_count": null,
   "id": "046e5dc8",
   "metadata": {},
   "outputs": [],
   "source": [
    "a = [[11,12,5,2],    #accessing the values\n",
    "    [15,6,10],\n",
    "    [10,8,12,5],\n",
    "    [12,15,8,6]]\n",
    "\n",
    "print(a[0][1])"
   ]
  },
  {
   "cell_type": "code",
   "execution_count": null,
   "id": "c227889c",
   "metadata": {},
   "outputs": [],
   "source": [
    "for r in a:         #printing the values\n",
    "    for c in r:\n",
    "        print(c,end=' ')\n",
    "    print()"
   ]
  },
  {
   "cell_type": "code",
   "execution_count": null,
   "id": "55a80b37",
   "metadata": {},
   "outputs": [],
   "source": [
    "a.insert(2,[1,2,3,4])  #inserting the values"
   ]
  },
  {
   "cell_type": "code",
   "execution_count": null,
   "id": "968dedd0",
   "metadata": {},
   "outputs": [],
   "source": [
    "for r in a:         #printing the values\n",
    "    for c in r:\n",
    "        print(c,end=' ')\n",
    "    print()"
   ]
  },
  {
   "cell_type": "code",
   "execution_count": null,
   "id": "9dd258e2",
   "metadata": {},
   "outputs": [],
   "source": [
    "a[2]=[11,9]     #updating the values\n",
    "a[0][3] = 7\n",
    "\n",
    "for r in a:         \n",
    "    for c in r:\n",
    "        print(c,end=' ')\n",
    "    print()"
   ]
  },
  {
   "cell_type": "code",
   "execution_count": null,
   "id": "96512e2a",
   "metadata": {},
   "outputs": [],
   "source": [
    "#a.remove(a[2])\n",
    "\n",
    "del a[2]     #deleting the values\n",
    "\n",
    "for r in a:         #printing the values\n",
    "    for c in r:\n",
    "        print(c,end=' ')\n",
    "    print()"
   ]
  },
  {
   "cell_type": "code",
   "execution_count": null,
   "id": "62535be7",
   "metadata": {},
   "outputs": [],
   "source": [
    "days = set(['mon','tue','wed','thu','fri','sat'])\n",
    "\n",
    "month = {'jan','feb','march'}\n",
    "\n",
    "dates = {21,22,17}\n",
    "\n",
    "for i in days:\n",
    "    print(i)"
   ]
  },
  {
   "cell_type": "code",
   "execution_count": null,
   "id": "bcb2f521",
   "metadata": {},
   "outputs": [],
   "source": [
    "days.add('sun')\n",
    "\n",
    "for i in days:\n",
    "    print(i)"
   ]
  },
  {
   "cell_type": "code",
   "execution_count": null,
   "id": "276fc498",
   "metadata": {},
   "outputs": [],
   "source": [
    "days.discard('sun')\n",
    "\n",
    "for i in days:\n",
    "    print(i)"
   ]
  },
  {
   "cell_type": "code",
   "execution_count": null,
   "id": "60e46634",
   "metadata": {
    "scrolled": true
   },
   "outputs": [],
   "source": [
    "venu = days | month     #union\n",
    "print(venu)"
   ]
  },
  {
   "cell_type": "code",
   "execution_count": null,
   "id": "a748347b",
   "metadata": {},
   "outputs": [],
   "source": [
    "venu = days & month     #intersection\n",
    "print(venu)"
   ]
  },
  {
   "cell_type": "code",
   "execution_count": null,
   "id": "f0068c8f",
   "metadata": {},
   "outputs": [],
   "source": [
    "venu = days - month     #difference\n",
    "print(venu)"
   ]
  },
  {
   "cell_type": "code",
   "execution_count": null,
   "id": "cf8643d9",
   "metadata": {},
   "outputs": [],
   "source": [
    "daya = {'mon','tue','wed'}\n",
    "\n",
    "dayb = {'mon','tue','wed','fri','sat','sun'}\n",
    "\n",
    "dayg = daya > dayb\n",
    "dayl = daya < dayb\n",
    "print(dayg)\n",
    "print(dayl)"
   ]
  },
  {
   "cell_type": "markdown",
   "id": "99419435",
   "metadata": {},
   "source": [
    "# algorithms"
   ]
  },
  {
   "cell_type": "code",
   "execution_count": null,
   "id": "5f35e95e",
   "metadata": {},
   "outputs": [],
   "source": [
    "#addition of 2 nos\n",
    "\n",
    "#step 1 : start\n",
    "#step 2 : declare variables a,b,c\n",
    "#step 3 : input a and b\n",
    "#step 4 : compute a + b\n",
    "#step 5 : print c\n",
    "#step 6 : stop"
   ]
  },
  {
   "cell_type": "code",
   "execution_count": null,
   "id": "4c0d9715",
   "metadata": {},
   "outputs": [],
   "source": [
    "#swaping of 2 nos\n",
    " \n",
    "#step 1 : start\n",
    "#step 2 : variable  declaration a, b, temp\n",
    "#step 3 : print a,b,temp before swaping\n",
    "#step 4 : apply logic temp = a\n",
    "                        #a = b\n",
    "                        #b = temp\n",
    "#step 5 : print a,b after swaping\n",
    "#step 6 : stop"
   ]
  },
  {
   "cell_type": "code",
   "execution_count": null,
   "id": "cd3ccbcd",
   "metadata": {
    "scrolled": true
   },
   "outputs": [],
   "source": [
    "a = 10\n",
    "b = 20\n",
    "temp = 0\n",
    "print(\"before swaping\",a,b)\n",
    "\n",
    "temp = a\n",
    "a = b\n",
    "b = temp\n",
    "\n",
    "print(\"after swaping\",a,b)\n"
   ]
  },
  {
   "cell_type": "code",
   "execution_count": 1,
   "id": "61326e41",
   "metadata": {},
   "outputs": [
    {
     "name": "stdout",
     "output_type": "stream",
     "text": [
      "20 10\n"
     ]
    }
   ],
   "source": [
    "a,b = 10,20\n",
    "\n",
    "a=a+b  #1st way\n",
    "b=a-b\n",
    "a=a-b\n",
    "\n",
    "a,b=b,a  #2nd way\n",
    "\n",
    "temp=a  #3rd way\n",
    "a=b\n",
    "b=temp\n",
    "\n",
    "\n",
    "print(a,b)\n"
   ]
  },
  {
   "cell_type": "code",
   "execution_count": 8,
   "id": "1f1ce99a",
   "metadata": {},
   "outputs": [
    {
     "name": "stdout",
     "output_type": "stream",
     "text": [
      "enter the decimal number:5\n"
     ]
    },
    {
     "ename": "OverflowError",
     "evalue": "int too large to convert to float",
     "output_type": "error",
     "traceback": [
      "\u001b[1;31m---------------------------------------------------------------------------\u001b[0m",
      "\u001b[1;31mOverflowError\u001b[0m                             Traceback (most recent call last)",
      "\u001b[1;32m~\\AppData\\Local\\Temp\\ipykernel_3396\\719872173.py\u001b[0m in \u001b[0;36m<module>\u001b[1;34m\u001b[0m\n\u001b[0;32m      6\u001b[0m \u001b[1;32mwhile\u001b[0m \u001b[0mdec_num\u001b[0m \u001b[1;33m!=\u001b[0m \u001b[1;36m0\u001b[0m\u001b[1;33m:\u001b[0m\u001b[1;33m\u001b[0m\u001b[1;33m\u001b[0m\u001b[0m\n\u001b[0;32m      7\u001b[0m     \u001b[0mr\u001b[0m \u001b[1;33m=\u001b[0m \u001b[0mdec_num\u001b[0m\u001b[1;33m%\u001b[0m\u001b[1;36m2\u001b[0m\u001b[1;33m\u001b[0m\u001b[1;33m\u001b[0m\u001b[0m\n\u001b[1;32m----> 8\u001b[1;33m     \u001b[0mbin_num\u001b[0m\u001b[1;33m+=\u001b[0m\u001b[0mr\u001b[0m\u001b[1;33m*\u001b[0m\u001b[1;33m(\u001b[0m\u001b[1;36m10\u001b[0m\u001b[1;33m**\u001b[0m\u001b[0mi\u001b[0m\u001b[1;33m)\u001b[0m\u001b[1;33m\u001b[0m\u001b[1;33m\u001b[0m\u001b[0m\n\u001b[0m\u001b[0;32m      9\u001b[0m     \u001b[0mdec_num\u001b[0m\u001b[1;33m=\u001b[0m\u001b[0mdec_num\u001b[0m\u001b[1;33m/\u001b[0m\u001b[1;36m2\u001b[0m\u001b[1;33m\u001b[0m\u001b[1;33m\u001b[0m\u001b[0m\n\u001b[0;32m     10\u001b[0m     \u001b[0mi\u001b[0m\u001b[1;33m+=\u001b[0m\u001b[1;36m1\u001b[0m\u001b[1;33m\u001b[0m\u001b[1;33m\u001b[0m\u001b[0m\n",
      "\u001b[1;31mOverflowError\u001b[0m: int too large to convert to float"
     ]
    }
   ],
   "source": [
    "#decimal to binary conversion\n",
    "\n",
    "dec_num = int(input(\"enter the decimal number:\"))\n",
    "bin_num = 0\n",
    "i=0\n",
    "while dec_num != 0:\n",
    "    r = dec_num%2\n",
    "    bin_num+=r*(10**i)\n",
    "    dec_num=dec_num/2\n",
    "    i+=1\n",
    "    \n",
    "print('bin_num is ',bin_num)"
   ]
  },
  {
   "cell_type": "code",
   "execution_count": null,
   "id": "439c9436",
   "metadata": {},
   "outputs": [],
   "source": [
    "#maximum of  two nos\n",
    "\n",
    "def maxi(a,b):\n",
    "    if a > b:\n",
    "        return a\n",
    "    else:\n",
    "        return b\n",
    "maxi(1,-1)"
   ]
  },
  {
   "cell_type": "code",
   "execution_count": null,
   "id": "3b96137b",
   "metadata": {},
   "outputs": [],
   "source": [
    "#step 1 : start\n",
    "#step 2 : variable declaration with  values\n",
    "#step 3 : define a function to check the condition if a is greater than b ,if true return a else return b\n",
    "#step 4 : call function to print thhe returned value\n",
    "#step 5 : stop"
   ]
  },
  {
   "cell_type": "markdown",
   "id": "26e03802",
   "metadata": {},
   "source": [
    "# stack"
   ]
  },
  {
   "cell_type": "code",
   "execution_count": 2,
   "id": "bc699280",
   "metadata": {},
   "outputs": [
    {
     "name": "stdout",
     "output_type": "stream",
     "text": [
      "1\n",
      "2\n",
      "3\n",
      "4\n",
      "5\n",
      "[1, 2, 3, 4, 5]\n",
      "5\n",
      "4\n",
      "3\n",
      "2\n",
      "1\n"
     ]
    }
   ],
   "source": [
    "stack = []\n",
    "\n",
    "for i in range(5):\n",
    "    a = int(input())\n",
    "    stack.append(a)\n",
    "    \n",
    "print(stack)\n",
    "\n",
    "for i in range(5):\n",
    "    print(stack.pop(-1))"
   ]
  },
  {
   "cell_type": "code",
   "execution_count": 3,
   "id": "1bcd032b",
   "metadata": {},
   "outputs": [
    {
     "data": {
      "text/plain": [
       "'b'"
      ]
     },
     "execution_count": 3,
     "metadata": {},
     "output_type": "execute_result"
    }
   ],
   "source": [
    "class push:\n",
    "    def __init__(self):\n",
    "        self.stack =[]\n",
    "        \n",
    "    def add(self,datavalues):\n",
    "        if datavalues not in self.stack:\n",
    "            self.stack.append(datavalues)\n",
    "            return True\n",
    "        else:\n",
    "            return False\n",
    "    def pack(self):\n",
    "        return self.stack[-1]\n",
    "    \n",
    "astack = push()\n",
    "astack.add('a')\n",
    "astack.add('b')\n",
    "astack.add('a')\n",
    "astack.pack()"
   ]
  },
  {
   "cell_type": "code",
   "execution_count": 8,
   "id": "ac757aa8",
   "metadata": {},
   "outputs": [
    {
     "name": "stdout",
     "output_type": "stream",
     "text": [
      "1 2 3 4 5 5\n",
      "4\n"
     ]
    }
   ],
   "source": [
    "class stack:\n",
    "    \n",
    "    def __init__(self):\n",
    "        self.stack = []\n",
    "        \n",
    "    def add(self,dataval):\n",
    "        \n",
    "        if dataval not in self.stack:\n",
    "            self.stack.append(dataval)\n",
    "            return True\n",
    "        else:\n",
    "            return False\n",
    "        \n",
    "    def peek(self):\n",
    "        return self.stack[-1]\n",
    "    \n",
    "    def display(self):\n",
    "        for self.x in self.stack:\n",
    "            print(self.x,end = \" \")\n",
    "    \n",
    "    def remove(self):\n",
    "        if len(self.stack)<=0:\n",
    "            return(\"no elements\")\n",
    "        else:\n",
    "            return self.stack.pop()\n",
    "        \n",
    "astack=stack()\n",
    "astack.add(1)\n",
    "astack.add(2)\n",
    "astack.add(3)\n",
    "astack.add(4)\n",
    "astack.add(5)\n",
    "\n",
    "astack.peek()\n",
    "\n",
    "astack.display()\n",
    "\n",
    "astack.remove()\n"
   ]
  },
  {
   "cell_type": "code",
   "execution_count": 1,
   "id": "b94ed758",
   "metadata": {},
   "outputs": [
    {
     "name": "stdout",
     "output_type": "stream",
     "text": [
      "5 4 3 2 1 "
     ]
    },
    {
     "data": {
      "text/plain": [
       "1"
      ]
     },
     "execution_count": 1,
     "metadata": {},
     "output_type": "execute_result"
    }
   ],
   "source": [
    "class queue:\n",
    "    def __init__(self):\n",
    "        self.queue=list()\n",
    "        \n",
    "    def addtoq(self,dataval):\n",
    "        if dataval not in self.queue:\n",
    "            self.queue.insert(0,dataval)\n",
    "            return True\n",
    "        return False\n",
    "    \n",
    "    def peek(self):\n",
    "        return self.queue[-1]\n",
    "    \n",
    "    def display(self):\n",
    "        for self.x in self.queue:\n",
    "            print(self.x,end=\" \")\n",
    "        \n",
    "    def remove(self):\n",
    "        if len(self.queue)<=0:\n",
    "            return(\"no elements\")\n",
    "        else:\n",
    "            return self.queue.pop(-1)\n",
    "    \n",
    "aqueue=queue()\n",
    "aqueue.addtoq(1)\n",
    "aqueue.addtoq(2)\n",
    "aqueue.addtoq(3)\n",
    "aqueue.addtoq(4)\n",
    "aqueue.addtoq(5)\n",
    "\n",
    "aqueue.peek()\n",
    "\n",
    "aqueue.display()\n",
    "\n",
    "aqueue.remove()"
   ]
  },
  {
   "cell_type": "code",
   "execution_count": 14,
   "id": "5fa555ca",
   "metadata": {},
   "outputs": [
    {
     "name": "stdout",
     "output_type": "stream",
     "text": [
      "1\n",
      "2\n",
      "3\n",
      "4\n",
      "5\n",
      "5\n",
      "4\n",
      "1\n",
      "2\n",
      "3\n",
      "4\n"
     ]
    }
   ],
   "source": [
    "class stack13:\n",
    "    def __init__(self):\n",
    "        self.stack = []\n",
    "        \n",
    "    def Addtop(self, dataval):\n",
    "        if dataval not in self.stack:\n",
    "            self.stack.append(dataval)\n",
    "            return True\n",
    "        else:\n",
    "            return False\n",
    "\n",
    "    def peek(self):\n",
    "        print(self.stack[-1])\n",
    "        \n",
    "    def Remove(self):\n",
    "        if len(self.stack) < 0:\n",
    "            print(\"no elements \")\n",
    "        else:\n",
    "            print(self.stack.pop())\n",
    "    \n",
    "    def display(self):\n",
    "        for self.x in self.stack:\n",
    "            print(self.x)\n",
    "\n",
    "a = stack13()\n",
    "a.Addtop(1)\n",
    "a.Addtop(2)\n",
    "a.Addtop(3)\n",
    "a.Addtop(4)\n",
    "a.Addtop(5)\n",
    "\n",
    "a.display()\n",
    "\n",
    "a.Remove()\n",
    "\n",
    "a.peek()\n",
    "a.display()"
   ]
  },
  {
   "cell_type": "code",
   "execution_count": 17,
   "id": "aef2cd9a",
   "metadata": {},
   "outputs": [
    {
     "name": "stdout",
     "output_type": "stream",
     "text": [
      "5\n",
      "4\n",
      "3\n",
      "2\n",
      "1\n",
      "1\n",
      "2\n",
      "9\n",
      "5\n",
      "4\n",
      "3\n",
      "2\n",
      "2\n",
      "9\n",
      "5\n",
      "4\n",
      "3\n"
     ]
    }
   ],
   "source": [
    "class queue:\n",
    "    def __init__(self):\n",
    "        self.queue = list()\n",
    "        \n",
    "    def Addrear(self, dataval):\n",
    "        if dataval not in self.queue:\n",
    "            self.queue.insert(0,dataval)\n",
    "            return True\n",
    "        else:\n",
    "            return False\n",
    "    \n",
    "    def Popfront(self):\n",
    "        if len(self.queue)<0:\n",
    "            print(\"empty queue \")\n",
    "        else:\n",
    "            print(self.queue.pop(-1))\n",
    "            \n",
    "    def display(self):\n",
    "        for self.x in self.queue:\n",
    "            print(self.x)\n",
    "            \n",
    "    def peak(self):\n",
    "        print(self.queue[-1])\n",
    "\n",
    "b = queue()\n",
    "b.Addrear(1)\n",
    "b.Addrear(2)\n",
    "b.Addrear(3)\n",
    "b.Addrear(4)\n",
    "b.Addrear(5)\n",
    "\n",
    "b.display()\n",
    "\n",
    "b.Popfront()\n",
    "\n",
    "b.peak()\n",
    "\n",
    "b.Addrear(9)\n",
    "b.display()\n",
    "\n",
    "b.Popfront()\n",
    "b.display()"
   ]
  },
  {
   "cell_type": "code",
   "execution_count": 25,
   "id": "51fdb5b7",
   "metadata": {},
   "outputs": [
    {
     "name": "stdout",
     "output_type": "stream",
     "text": [
      "element found at and element is :  4\n"
     ]
    }
   ],
   "source": [
    "a = [1, 2, 3, 4, 5, 6]\n",
    "n = len(a)\n",
    "x = 4\n",
    "\n",
    "if x in a:\n",
    "    print(\"element found at and element is : \",x)\n",
    "else:\n",
    "    print(\"element not found\")"
   ]
  },
  {
   "cell_type": "code",
   "execution_count": 30,
   "id": "cc65c91e",
   "metadata": {},
   "outputs": [
    {
     "name": "stdout",
     "output_type": "stream",
     "text": [
      "sorted array : \n",
      "25 36 49 64 81 100 121 144 "
     ]
    }
   ],
   "source": [
    "def Bubblesort(arr):\n",
    "    swap = False\n",
    "    n = len(arr)\n",
    "    \n",
    "    for i in range(n):\n",
    "        for j in range(n-i-1):\n",
    "            if arr[j] > arr[j+1]:\n",
    "                arr[j], arr[j+1] = arr[j+1], arr[j]\n",
    "                swap = True\n",
    "        if swap == False:\n",
    "            break\n",
    "\n",
    "\n",
    "if __name__ == '__main__':\n",
    "    arr = [64, 144, 100, 81, 121, 36, 25, 49]\n",
    "    Bubblesort(arr)\n",
    "    print(\"sorted array : \")\n",
    "    for i in range(len(arr)):\n",
    "        print(arr[i], end = \" \")"
   ]
  },
  {
   "cell_type": "code",
   "execution_count": 34,
   "id": "d9207643",
   "metadata": {},
   "outputs": [
    {
     "name": "stdout",
     "output_type": "stream",
     "text": [
      "sorted array : \n",
      "4 9 13 54 64 78 "
     ]
    }
   ],
   "source": [
    "arr = [64, 78, 13, 9, 54, 4]\n",
    "for i in range(len(arr)):\n",
    "    min_idx=i\n",
    "    for j in range(i+1, len(arr)):\n",
    "        if arr[min_idx] > arr[j]:\n",
    "            min_idx = j\n",
    "            \n",
    "    arr[i], arr[min_idx] = arr[min_idx], arr[i]\n",
    "    \n",
    "print(\"sorted array : \")\n",
    "for i in range(len(arr)):\n",
    "    print(arr[i], end=\" \")"
   ]
  },
  {
   "cell_type": "code",
   "execution_count": 37,
   "id": "ad96ce63",
   "metadata": {
    "scrolled": true
   },
   "outputs": [
    {
     "name": "stdout",
     "output_type": "stream",
     "text": [
      "                    7                     \n",
      "                   1 1                    \n",
      "                  1 2 1                   \n",
      "                 1 3 3 1                  \n",
      "                1 4 6 4 1                 \n",
      "              1 5 10 10 5 1               \n",
      "             1 6 15 20 15 6 1             \n"
     ]
    }
   ],
   "source": [
    "def gen_pascal_triangle(n):\n",
    "    triangle = [[1]]\n",
    "    for i in range(1, n):\n",
    "        prev_row = triangle[-1]\n",
    "        new_row = [1]\n",
    "        for j in range(1, i):\n",
    "            new_row.append(prev_row[j-1]+prev_row[j])\n",
    "        new_row.append(1)\n",
    "        triangle.append(new_row)\n",
    "    return triangle\n",
    "\n",
    "def print_triangle(triangle):\n",
    "    for row in triangle:\n",
    "        print(\" \".join(map(str, row)).center(len(triangle[-1])*6))\n",
    "        \n",
    "n = 7\n",
    "pascal_triangle = gen_pascal_triangle(n)\n",
    "print_triangle(pascal_triangle)"
   ]
  },
  {
   "cell_type": "code",
   "execution_count": 41,
   "id": "4794de8c",
   "metadata": {},
   "outputs": [
    {
     "name": "stdout",
     "output_type": "stream",
     "text": [
      "enter the element to be searched : 45\n",
      "element found at 5\n"
     ]
    }
   ],
   "source": [
    "def Linearsearch(arr, n, x):\n",
    "    for i in range(0,n):\n",
    "        if arr[i] == x:\n",
    "            return i\n",
    "    return -1\n",
    "    \n",
    "if __name__ == '__main__':\n",
    "    arr = [11, 34, 5, 2, 45, 56, 34]\n",
    "    n = len(arr)\n",
    "    x = int(input(\"enter the element to be searched : \"))\n",
    "    result = Linearsearch(arr, n, x)\n",
    "    if result == -1:\n",
    "        print(\"element not found\")\n",
    "    else:\n",
    "        print(\"element found at index \",i)"
   ]
  },
  {
   "cell_type": "code",
   "execution_count": 39,
   "id": "cc6681e1",
   "metadata": {},
   "outputs": [
    {
     "name": "stdout",
     "output_type": "stream",
     "text": [
      "Element is present at index 3\n"
     ]
    }
   ],
   "source": [
    "# Python3 code to linearly search x in arr[].\n",
    "\n",
    "\n",
    "def search(arr, N, x):\n",
    "\n",
    "    for i in range(0, N):\n",
    "        if (arr[i] == x):\n",
    "            return i\n",
    "    return -1\n",
    "\n",
    "\n",
    "# Driver Code\n",
    "if __name__ == \"__main__\":\n",
    "    arr = [2, 3, 4, 10, 40]\n",
    "    x = 10\n",
    "    N = len(arr)\n",
    "\n",
    "    # Function call\n",
    "    result = search(arr, N, x)\n",
    "    if(result == -1):\n",
    "        print(\"Element is not present in array\")\n",
    "    else:\n",
    "        print(\"Element is present at index\", result)\n"
   ]
  }
 ],
 "metadata": {
  "kernelspec": {
   "display_name": "Python 3 (ipykernel)",
   "language": "python",
   "name": "python3"
  },
  "language_info": {
   "codemirror_mode": {
    "name": "ipython",
    "version": 3
   },
   "file_extension": ".py",
   "mimetype": "text/x-python",
   "name": "python",
   "nbconvert_exporter": "python",
   "pygments_lexer": "ipython3",
   "version": "3.10.9"
  }
 },
 "nbformat": 4,
 "nbformat_minor": 5
}
