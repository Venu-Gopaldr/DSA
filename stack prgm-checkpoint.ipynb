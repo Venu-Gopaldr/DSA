{
 "cells": [
  {
   "cell_type": "code",
   "execution_count": 3,
   "id": "b6f68a78",
   "metadata": {},
   "outputs": [
    {
     "name": "stdout",
     "output_type": "stream",
     "text": [
      "enter the size of the stack5\n",
      "elements into stack:1\n",
      "elements into stack:2\n",
      "elements into stack:3\n",
      "elements into stack:4\n",
      "elements into stack:5\n",
      "stack operations are:\n",
      "1.push\n",
      "2.pop\n",
      "enter your choice2\n",
      "enter the number of element to be  pushed or popped:3\n",
      "5\n",
      "4\n",
      "3\n",
      "[1, 2]\n"
     ]
    }
   ],
   "source": [
    "def push(stack,ele):\n",
    "    stack.append(ele)\n",
    "def pop(stack):\n",
    "    print(stack.pop(-1))\n",
    "    \n",
    "n = int(input(\"enter the size of the stack\"))\n",
    "stack = [0]*n\n",
    "\n",
    "for i in range(n):\n",
    "    stack[i] = int(input(\"elements into stack:\"))\n",
    "\n",
    "print(\"stack operations are:\")\n",
    "print(\"1.push\\n2.pop\")\n",
    "\n",
    "ch = int(input(\"enter your choice\"))\n",
    "k = int(input(\"enter the number of element to be  pushed or popped:\"))\n",
    "\n",
    "for i in range(k):\n",
    "    if ch == 1:\n",
    "        ele = int(input(\"enter the element to be pushed:\"))\n",
    "        push(stack,ele)\n",
    "\n",
    "    elif ch == 2:\n",
    "        pop(stack)\n",
    "        \n",
    "    else:\n",
    "        print(\"invalid choice!!!\")\n",
    "        \n",
    "print(stack)"
   ]
  }
 ],
 "metadata": {
  "kernelspec": {
   "display_name": "Python 3 (ipykernel)",
   "language": "python",
   "name": "python3"
  },
  "language_info": {
   "codemirror_mode": {
    "name": "ipython",
    "version": 3
   },
   "file_extension": ".py",
   "mimetype": "text/x-python",
   "name": "python",
   "nbconvert_exporter": "python",
   "pygments_lexer": "ipython3",
   "version": "3.9.13"
  }
 },
 "nbformat": 4,
 "nbformat_minor": 5
}
