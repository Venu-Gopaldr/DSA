{
 "cells": [
  {
   "cell_type": "markdown",
   "id": "f23ccb26",
   "metadata": {},
   "source": [
    "# LISTS"
   ]
  },
  {
   "cell_type": "code",
   "execution_count": 1,
   "id": "de187f5b",
   "metadata": {},
   "outputs": [
    {
     "name": "stdout",
     "output_type": "stream",
     "text": [
      "Elements of the list are : \n",
      "[1, 2, 'venu', 1.3, True]\n"
     ]
    }
   ],
   "source": [
    "List = [1, 2, 'venu', 1.30, True]\n",
    "print(\"Elements of the list are : \")\n",
    "print(List)"
   ]
  },
  {
   "cell_type": "code",
   "execution_count": 2,
   "id": "db134b89",
   "metadata": {},
   "outputs": [
    {
     "name": "stdout",
     "output_type": "stream",
     "text": [
      "first element of list : \n",
      "venu\n",
      "third element of list : \n",
      "d\n",
      "last element of list : \n",
      "r\n",
      "first element of list : \n",
      "venu\n"
     ]
    }
   ],
   "source": [
    "List1 = ['venu', 'gopal', 'd', 'r']\n",
    "print(\"first element of list : \")\n",
    "print(List1[0])\n",
    "print(\"third element of list : \")\n",
    "print(List1[2])\n",
    "print(\"last element of list : \")\n",
    "print(List1[-1])\n",
    "print(\"first element of list : \")\n",
    "print(List1[-4])"
   ]
  },
  {
   "cell_type": "code",
   "execution_count": 3,
   "id": "d9483abd",
   "metadata": {},
   "outputs": [
    {
     "name": "stdout",
     "output_type": "stream",
     "text": [
      "first list of list : \n",
      "['venu', 'gopal']\n",
      "first element of list of list : \n",
      "venu\n",
      "last element of list : \n",
      "r\n",
      "last element of first list : \n",
      "gopal\n"
     ]
    }
   ],
   "source": [
    "List2 = [['venu', 'gopal'], 'd', 'r']\n",
    "print(\"first list of list : \")\n",
    "print(List2[0])\n",
    "print(\"first element of list of list : \")\n",
    "print(List2[0][0])\n",
    "print(\"last element of list : \")\n",
    "print(List2[-1])\n",
    "print(\"last element of first list : \")\n",
    "print(List2[0][-1])"
   ]
  },
  {
   "cell_type": "markdown",
   "id": "9d6fb23c",
   "metadata": {},
   "source": [
    "# Tuple"
   ]
  },
  {
   "cell_type": "code",
   "execution_count": 4,
   "id": "db3efb91",
   "metadata": {},
   "outputs": [
    {
     "name": "stdout",
     "output_type": "stream",
     "text": [
      "elements of tuple are: \n",
      "('venu', 'gopal')\n"
     ]
    }
   ],
   "source": [
    "Tuple = 'venu', 'gopal'\n",
    "print(\"elements of tuple are: \")\n",
    "print(Tuple)"
   ]
  },
  {
   "cell_type": "code",
   "execution_count": 5,
   "id": "1a2077f6",
   "metadata": {},
   "outputs": [
    {
     "name": "stdout",
     "output_type": "stream",
     "text": [
      "one element tuple : \n",
      "(8,)\n"
     ]
    }
   ],
   "source": [
    "Tuple1 = (8,)\n",
    "print(\"one element tuple : \")\n",
    "print(Tuple1)"
   ]
  },
  {
   "cell_type": "code",
   "execution_count": 6,
   "id": "45050e63",
   "metadata": {},
   "outputs": [
    {
     "name": "stdout",
     "output_type": "stream",
     "text": [
      "list to tuple : \n",
      "('venu', 'gopal', 'ubdt', 'dvg')\n",
      "third element of tuple : \n",
      "ubdt\n"
     ]
    }
   ],
   "source": [
    "List13 = ['venu', 'gopal', 'ubdt', 'dvg']\n",
    "Tuple13 = tuple(List13)\n",
    "print(\"list to tuple : \")\n",
    "print(Tuple13)\n",
    "print(\"third element of tuple : \")\n",
    "print(Tuple13[2])"
   ]
  },
  {
   "cell_type": "markdown",
   "id": "f129fa49",
   "metadata": {},
   "source": [
    "# SET"
   ]
  },
  {
   "cell_type": "code",
   "execution_count": 7,
   "id": "1377be04",
   "metadata": {},
   "outputs": [
    {
     "name": "stdout",
     "output_type": "stream",
     "text": [
      "Set elements are : \n",
      "{'ubdt', 'dvg', 'd', 'venu', 'gopal', 'r'}\n",
      "Set elements are : \n",
      "{1, 2, 3, 4, 'venu'}\n",
      "Set elements are : \n",
      "ubdt       dvg       d       venu       gopal       r       \n",
      "True\n"
     ]
    }
   ],
   "source": [
    "Set = set(['venu', 'gopal', 'd', 'r', 'ubdt', 'dvg'])\n",
    "print(\"Set elements are : \")\n",
    "print(Set)\n",
    "\n",
    "Set1 = {1, 2, 3, 4, 'venu'}\n",
    "print(\"Set elements are : \")\n",
    "print(Set1)\n",
    "\n",
    "print(\"Set elements are : \")\n",
    "for i in Set:\n",
    "    print(i , end=\"       \")\n",
    "print()\n",
    "print(\"venu\" in Set)"
   ]
  },
  {
   "cell_type": "markdown",
   "id": "c397f512",
   "metadata": {},
   "source": [
    "# Frozen Set"
   ]
  },
  {
   "cell_type": "code",
   "execution_count": 8,
   "id": "743cd160",
   "metadata": {},
   "outputs": [
    {
     "name": "stdout",
     "output_type": "stream",
     "text": [
      "normal set : \n",
      "{1, 2, 3, 'venu', 'gopal'}\n",
      "frozen set : \n",
      "frozenset({'gopal', 1, 2, 3, 5, 'venu'})\n"
     ]
    }
   ],
   "source": [
    "normal_set = set([1, 2, 3, 'venu', 'gopal'])\n",
    "print(\"normal set : \")\n",
    "print(normal_set)\n",
    "normal_set.add(5)\n",
    "\n",
    "frozen_set = frozenset(normal_set)\n",
    "print(\"frozen set : \")\n",
    "print(frozen_set)\n",
    "# frozen_set.add('vg')"
   ]
  },
  {
   "cell_type": "markdown",
   "id": "bf1ea53d",
   "metadata": {},
   "source": [
    "# String"
   ]
  },
  {
   "cell_type": "code",
   "execution_count": 9,
   "id": "45e695e6",
   "metadata": {},
   "outputs": [
    {
     "name": "stdout",
     "output_type": "stream",
     "text": [
      "welcome to ubdt college of engineering\n",
      "w\n",
      "g\n",
      "gnireenigne fo egelloc tdbu ot emoclew\n",
      "elcome to ubdt college of engineering\n"
     ]
    }
   ],
   "source": [
    "Str = \"welcome to ubdt college of engineering\"\n",
    "print(Str)\n",
    "\n",
    "print(Str[0])\n",
    "print(Str[-1])\n",
    "print(Str[::-1])\n",
    "print(Str[1:])"
   ]
  },
  {
   "cell_type": "code",
   "execution_count": 10,
   "id": "201133f8",
   "metadata": {},
   "outputs": [
    {
     "name": "stdout",
     "output_type": "stream",
     "text": [
      "WELCOME TO UBDT COLLEGE OF ENGINEERING\n",
      "welcome to ubdt college of engineering\n",
      "Welcome To Ubdt College Of Engineering\n",
      "Welcome to ubdt college of engineering\n",
      "WELCOME TO UBDT COLLEGE OF ENGINEERING\n",
      "welcome to ubdt college of engineering\n",
      "welcome to ubdt college of engineering\n",
      "False\n",
      "False\n",
      "False\n",
      "welcome to ubdt college of engineering\n",
      "welcome to ubdt college of engineering\n",
      "welcomeetoeubdtecollegeeofeengineering\n"
     ]
    }
   ],
   "source": [
    "# String methods\n",
    "print(Str.upper())\n",
    "print(Str.lower())\n",
    "print(Str.title())\n",
    "print(Str.capitalize())\n",
    "print(Str.swapcase())\n",
    "print(Str.casefold())\n",
    "print(Str.zfill(0))\n",
    "print(Str.isalpha())\n",
    "print(Str.isnumeric())\n",
    "print(Str.isdigit())\n",
    "print(Str.rstrip())\n",
    "print(Str.lstrip())\n",
    "# print(Str.rjust())\n",
    "print(Str.translate(Str))"
   ]
  },
  {
   "cell_type": "code",
   "execution_count": 11,
   "id": "0c37af02",
   "metadata": {},
   "outputs": [
    {
     "name": "stdout",
     "output_type": "stream",
     "text": [
      "Initial String: \n",
      "Hello, I'm a Geek\n",
      "\n",
      "Deleting entire String: \n"
     ]
    },
    {
     "ename": "NameError",
     "evalue": "name 'String1' is not defined",
     "output_type": "error",
     "traceback": [
      "\u001b[1;31m---------------------------------------------------------------------------\u001b[0m",
      "\u001b[1;31mNameError\u001b[0m                                 Traceback (most recent call last)",
      "Cell \u001b[1;32mIn[11], line 10\u001b[0m\n\u001b[0;32m      8\u001b[0m \u001b[38;5;28;01mdel\u001b[39;00m String1 \n\u001b[0;32m      9\u001b[0m \u001b[38;5;28mprint\u001b[39m(\u001b[38;5;124m\"\u001b[39m\u001b[38;5;130;01m\\n\u001b[39;00m\u001b[38;5;124mDeleting entire String: \u001b[39m\u001b[38;5;124m\"\u001b[39m) \n\u001b[1;32m---> 10\u001b[0m \u001b[38;5;28mprint\u001b[39m(\u001b[43mString1\u001b[49m)\n",
      "\u001b[1;31mNameError\u001b[0m: name 'String1' is not defined"
     ]
    }
   ],
   "source": [
    "String1 = \"Hello, I'm a Geek\"\n",
    "print(\"Initial String: \") \n",
    "print(String1) \n",
    "  \n",
    "# Deleting a String \n",
    "# with the use of del \n",
    "\n",
    "del String1 \n",
    "print(\"\\nDeleting entire String: \") \n",
    "print(String1)"
   ]
  },
  {
   "cell_type": "code",
   "execution_count": 12,
   "id": "26cc921c",
   "metadata": {},
   "outputs": [
    {
     "name": "stdout",
     "output_type": "stream",
     "text": [
      "|name      |    branch|     ph no|\n"
     ]
    }
   ],
   "source": [
    "Str1 = '|{:<10}|{:>10}|{:>10}|'.format('name', 'branch', 'ph no')\n",
    "print(Str1)"
   ]
  },
  {
   "cell_type": "markdown",
   "id": "934d4a50",
   "metadata": {},
   "source": [
    "# Dictionary"
   ]
  },
  {
   "cell_type": "code",
   "execution_count": 13,
   "id": "6eb4bb19",
   "metadata": {},
   "outputs": [
    {
     "name": "stdout",
     "output_type": "stream",
     "text": [
      "{'fname': 'venu', 'lname': 'gopal', 1: [1, 2, 3, 4]}\n",
      "[1, 2, 3, 4]\n",
      "venu\n",
      "gopal\n",
      "fname   lname   1   \n",
      "venu  gopal  [1, 2, 3, 4]  \n",
      "('fname', 'venu')  ('lname', 'gopal')  (1, [1, 2, 3, 4])  "
     ]
    }
   ],
   "source": [
    "Dict = {'fname':'venu','lname':'gopal',1:[1, 2, 3, 4]}\n",
    "print(Dict)\n",
    "\n",
    "print(Dict[1])\n",
    "print(Dict['fname'])\n",
    "print(Dict.get('lname'))\n",
    "\n",
    "\n",
    "# different ways of accesing dictionary using built-in methods\n",
    "\n",
    "for i in Dict.keys():\n",
    "    print(i,end=\"   \")\n",
    "print()\n",
    "\n",
    "for i in Dict.values():\n",
    "    print(i, end=\"  \")\n",
    "print()\n",
    "\n",
    "for i in Dict.items():\n",
    "    print(i, end = \"  \")"
   ]
  },
  {
   "cell_type": "code",
   "execution_count": 14,
   "id": "f7188604",
   "metadata": {},
   "outputs": [
    {
     "name": "stdout",
     "output_type": "stream",
     "text": [
      "{0: 0, 1: 1, 2: 4, 3: 9, 4: 16, 5: 25, 6: 36, 7: 49, 8: 64, 9: 81, 10: 100, 11: 121, 12: 144, 13: 169, 14: 196, 15: 225, 16: 256, 17: 289, 18: 324, 19: 361, 20: 400, 21: 441, 22: 484, 23: 529, 24: 576, 25: 625, 26: 676, 27: 729, 28: 784, 29: 841, 30: 900, 31: 961, 32: 1024, 33: 1089, 34: 1156, 35: 1225, 36: 1296, 37: 1369, 38: 1444, 39: 1521, 40: 1600, 41: 1681, 42: 1764, 43: 1849, 44: 1936, 45: 2025, 46: 2116, 47: 2209, 48: 2304, 49: 2401}\n"
     ]
    }
   ],
   "source": [
    "mydict = {x:x**2 for x in range(50)}\n",
    "print(mydict)"
   ]
  },
  {
   "cell_type": "markdown",
   "id": "a896b1e1",
   "metadata": {},
   "source": [
    "# Matrix"
   ]
  },
  {
   "cell_type": "code",
   "execution_count": 15,
   "id": "6d47b799",
   "metadata": {},
   "outputs": [
    {
     "name": "stdout",
     "output_type": "stream",
     "text": [
      "[[1 2 3]\n",
      " [4 5 6]\n",
      " [7 8 9]\n",
      " [1 4 7]]\n",
      "\n",
      " reshaped matrix : \n",
      "[[1 2 3 4]\n",
      " [5 6 7 8]\n",
      " [9 1 4 7]]\n",
      "\n",
      "Accessing the elements of the matrix : \n",
      "[4 5 6]\n",
      "7\n",
      "\n",
      "Adding item to matrix : \n",
      "[[1 2 3 4]\n",
      " [5 6 7 8]\n",
      " [9 1 4 7]\n",
      " [2 5 8 9]]\n",
      "\n",
      "Deleting item from the matrix : \n",
      "[[1 2 3 4]\n",
      " [5 6 7 8]\n",
      " [9 1 4 7]]\n"
     ]
    }
   ],
   "source": [
    "import numpy as np\n",
    "a = np.array([[1,2,3],[4,5,6],[7,8,9],[1,4,7]])\n",
    "print(a)\n",
    "\n",
    "# changing shape of the matrix\n",
    "m = a.reshape(3,4)\n",
    "print(\"\\n reshaped matrix : \")\n",
    "print(m)\n",
    "\n",
    "# accessing the elements\n",
    "print(\"\\nAccessing the elements of the matrix : \")\n",
    "print(a[1])\n",
    "print(a[2][0])\n",
    "\n",
    "# adding to the matrix\n",
    "m = np.append(m,[[2,5,8,9]],0)\n",
    "print(\"\\nAdding item to matrix : \")\n",
    "print(m)\n",
    "\n",
    "# deleting from the matrix\n",
    "m = np.delete(m,[-1],0)\n",
    "print(\"\\nDeleting item from the matrix : \")\n",
    "print(m)"
   ]
  },
  {
   "cell_type": "markdown",
   "id": "ef1f3ec5",
   "metadata": {},
   "source": [
    "# ByteArray"
   ]
  },
  {
   "cell_type": "code",
   "execution_count": 16,
   "id": "0fb06b18",
   "metadata": {},
   "outputs": [
    {
     "name": "stdout",
     "output_type": "stream",
     "text": [
      "after creating : \n",
      "bytearray(b'\\x10\\x08\\x03\\x19')\n",
      "accessing elements : \n",
      "8\n",
      "after adding element : \n",
      "bytearray(b'\\x10\\x08\\x03\\x19\\x02')\n",
      "after modifying : \n",
      "bytearray(b'Z\\x08\\x03\\x19\\x02')\n"
     ]
    }
   ],
   "source": [
    "b = bytearray((16, 8, 3, 25))\n",
    "print(\"after creating : \")\n",
    "print(b)\n",
    "\n",
    "print(\"accessing elements : \")\n",
    "print(b[1])\n",
    "\n",
    "b.append(2)\n",
    "print(\"after adding element : \")\n",
    "print(b)\n",
    "\n",
    "b[0] = 90\n",
    "print(\"after modifying : \")\n",
    "print(b)"
   ]
  },
  {
   "cell_type": "markdown",
   "id": "8c904808",
   "metadata": {},
   "source": [
    "# Linked List"
   ]
  },
  {
   "cell_type": "code",
   "execution_count": 17,
   "id": "5a912282",
   "metadata": {},
   "outputs": [],
   "source": [
    "# simple implementation of linked list of empty head\n",
    "class node:\n",
    "    def __init__(self, data):\n",
    "        self.data = data\n",
    "        self.next = None\n",
    "\n",
    "class LList:\n",
    "    def __init__(self):\n",
    "        self.head = None"
   ]
  },
  {
   "cell_type": "code",
   "execution_count": 18,
   "id": "3bb06be7",
   "metadata": {},
   "outputs": [],
   "source": [
    "# creating a linked list of 3 nodes connected\n",
    "class node:\n",
    "    \n",
    "    def __init__(self, data):\n",
    "        self.data = data\n",
    "        self.next = None\n",
    "\n",
    "class LList:\n",
    "    \n",
    "    def __init__(self):\n",
    "        self.head = None\n",
    "        \n",
    "if __name__ == '__main__':\n",
    "    ll = LList()\n",
    "    ll.head = node(1)\n",
    "    second = node(2)\n",
    "    third = node(3)\n",
    "    \n",
    "    ll.head.next = second\n",
    "    second.next = third"
   ]
  },
  {
   "cell_type": "code",
   "execution_count": 19,
   "id": "ef0df62b",
   "metadata": {},
   "outputs": [
    {
     "name": "stdout",
     "output_type": "stream",
     "text": [
      "5\n",
      "7\n",
      "9\n"
     ]
    }
   ],
   "source": [
    "class Node:\n",
    "    def __init__(self, data):\n",
    "        self.data = data\n",
    "        self.next = None\n",
    "        \n",
    "class LList:\n",
    "    def __init__(self):\n",
    "        self.head = None\n",
    "    \n",
    "    def printList(self):\n",
    "        temp = self.head\n",
    "        while (temp):\n",
    "            print (temp.data)\n",
    "            temp = temp.next\n",
    "            \n",
    "if __name__ == '__main__':\n",
    "    ll = LList()\n",
    "    ll.head = Node(5)\n",
    "    second = Node(7)\n",
    "    third = Node(9)\n",
    "    \n",
    "    ll.head.next = second;\n",
    "    second.next = third;\n",
    "    \n",
    "    ll.printList()"
   ]
  },
  {
   "cell_type": "markdown",
   "id": "dccfb1fb",
   "metadata": {},
   "source": [
    "# inserting a new node at beginning of the linked list    -> o(1)"
   ]
  },
  {
   "cell_type": "code",
   "execution_count": 20,
   "id": "bd278de0",
   "metadata": {},
   "outputs": [
    {
     "name": "stdout",
     "output_type": "stream",
     "text": [
      "Before insertion : \n",
      "1\n",
      "3\n",
      "2\n",
      "3\n",
      "After insertion : \n",
      "1323\n",
      "1\n",
      "3\n",
      "2\n",
      "3\n"
     ]
    }
   ],
   "source": [
    "class Node:\n",
    "    def __init__(self, data):\n",
    "        self.data = data\n",
    "        self.next = None\n",
    "        \n",
    "class LList:\n",
    "    def __init__(self):\n",
    "        self.head = None\n",
    "        \n",
    "    def printList(self):\n",
    "        temp = self.head\n",
    "        while(temp):\n",
    "            print(temp.data)\n",
    "            temp = temp.next\n",
    "            \n",
    "    def push(self, new_data):\n",
    "        new_node = Node(new_data)\n",
    "        new_node.next = self.head\n",
    "        self.head = new_node\n",
    "\n",
    "if __name__ == '__main__':\n",
    "    ll = LList()\n",
    "    ll.head = Node(1)\n",
    "    second = Node(3)\n",
    "    third = Node(2)\n",
    "    four = Node(3)\n",
    "    \n",
    "    ll.head.next = second\n",
    "    second.next = third\n",
    "    third.next = four\n",
    "    \n",
    "    print(\"Before insertion : \")\n",
    "    ll.printList()\n",
    "    ll.push(1323)\n",
    "    print(\"After insertion : \")\n",
    "    ll.printList()"
   ]
  },
  {
   "cell_type": "markdown",
   "id": "c3df4bac",
   "metadata": {},
   "source": [
    "# inserting a new node at the end of the linked list    -> o(n)"
   ]
  },
  {
   "cell_type": "code",
   "execution_count": 26,
   "id": "421f6e5e",
   "metadata": {},
   "outputs": [
    {
     "name": "stdout",
     "output_type": "stream",
     "text": [
      "Before insertion : \n",
      "13\n",
      "23\n",
      "11\n",
      "After insertion : \n",
      "13\n",
      "23\n",
      "11\n",
      "1323\n"
     ]
    }
   ],
   "source": [
    "class Node:\n",
    "    def __init__(self, data):\n",
    "        self.data = data\n",
    "        self.next = None\n",
    "        \n",
    "class LList:\n",
    "    def __init__(self):\n",
    "        self.head = None\n",
    "        \n",
    "    def printList(self):\n",
    "        temp = self.head\n",
    "        while(temp):\n",
    "            print(temp.data)\n",
    "            temp = temp.next\n",
    "    \n",
    "    def Append(self, new_data):\n",
    "        new_node = Node(new_data)\n",
    "        \n",
    "        if self.head is None:\n",
    "            head.next = new_node\n",
    "            return\n",
    "        \n",
    "        last = self.head\n",
    "        while(last.next):\n",
    "            last = last.next\n",
    "        last.next = new_node\n",
    "        \n",
    "if __name__ == '__main__':\n",
    "    ll = LList()\n",
    "    ll.head = Node(13)\n",
    "    second = Node(23)\n",
    "    third = node(11)\n",
    "    ll.head.next = second\n",
    "    second.next = third\n",
    "    \n",
    "    print(\"Before insertion : \")\n",
    "    ll.printList()\n",
    "    ll.Append(1323)\n",
    "    print(\"After insertion : \")\n",
    "    ll.printList()"
   ]
  },
  {
   "cell_type": "markdown",
   "id": "59077b6d",
   "metadata": {},
   "source": [
    "# inserting a new node after given node of the linked list    -> o(1)"
   ]
  },
  {
   "cell_type": "code",
   "execution_count": 25,
   "id": "41b67660",
   "metadata": {},
   "outputs": [
    {
     "name": "stdout",
     "output_type": "stream",
     "text": [
      "Before insertion : \n",
      "13\n",
      "23\n",
      "11\n",
      "After insertion : \n",
      "13\n",
      "23\n",
      "90\n",
      "11\n"
     ]
    }
   ],
   "source": [
    "class Node:\n",
    "    def __init__(self, data):\n",
    "        self.data = data\n",
    "        self.next = None\n",
    "class LList:\n",
    "    def __init__(self):\n",
    "        self.head = None\n",
    "        \n",
    "    def printList(self):\n",
    "        temp = self.head\n",
    "        while(temp):\n",
    "            print(temp.data)\n",
    "            temp = temp.next\n",
    "        \n",
    "    def insertAt(self, prev_node, new_data):\n",
    "        if prev_node is None:\n",
    "            print(\"Node must be in linked list!!\")\n",
    "            return\n",
    "        new_node = Node(new_data)\n",
    "        new_node.next = prev_node.next\n",
    "        prev_node.next = new_node\n",
    "        \n",
    "if __name__ == '__main__':\n",
    "    ll = LList()\n",
    "    ll.head = Node(13)\n",
    "    second = Node(23)\n",
    "    third = Node(11)\n",
    "    \n",
    "    ll.head.next = second\n",
    "    second.next = third\n",
    "    \n",
    "    print(\"Before insertion : \")\n",
    "    ll.printList()\n",
    "    ll.insertAt(second, 90)\n",
    "    print(\"After insertion : \")\n",
    "    ll.printList()"
   ]
  },
  {
   "cell_type": "markdown",
   "id": "949527bb",
   "metadata": {},
   "source": [
    "# Deletion of node from beginning"
   ]
  },
  {
   "cell_type": "code",
   "execution_count": 17,
   "id": "bbe71da4",
   "metadata": {},
   "outputs": [
    {
     "name": "stdout",
     "output_type": "stream",
     "text": [
      "Before deletion : \n",
      "13\n",
      "23\n",
      "11\n",
      "After deletion : \n",
      "23\n",
      "11\n"
     ]
    }
   ],
   "source": [
    "class Node:\n",
    "    def __init__(self, data):\n",
    "        self.data = data\n",
    "        self.next = None\n",
    "class LList:\n",
    "    def __init__(self):\n",
    "        self.head = None\n",
    "        \n",
    "    def printList(self):\n",
    "        temp = self.head\n",
    "        while(temp):\n",
    "            print(temp.data)\n",
    "            temp = temp.next\n",
    "        \n",
    "    def insertAt(self, prev_node, new_data):\n",
    "        if prev_node is None:\n",
    "            print(\"Node must be in linked list!!\")\n",
    "            return\n",
    "        new_node = Node(new_data)\n",
    "        new_node.next = prev_node.next\n",
    "        prev_node.next = new_node\n",
    "        \n",
    "    def Delete(self):\n",
    "        temp = self.head\n",
    "        self.head = self.head.next\n",
    "        del temp\n",
    "        \n",
    "if __name__ == '__main__':\n",
    "    ll = LList()\n",
    "    ll.head = Node(13)\n",
    "    second = Node(23)\n",
    "    third = Node(11)\n",
    "    \n",
    "    ll.head.next = second\n",
    "    second.next = third\n",
    "    \n",
    "    print(\"Before deletion : \")\n",
    "    ll.printList()\n",
    "    ll.Delete()\n",
    "    print(\"After deletion : \")\n",
    "    ll.printList()"
   ]
  },
  {
   "cell_type": "markdown",
   "id": "3ec2eb49",
   "metadata": {},
   "source": [
    "# Delete the node from the linked list by given position"
   ]
  },
  {
   "cell_type": "code",
   "execution_count": 9,
   "id": "1d71d92e",
   "metadata": {},
   "outputs": [
    {
     "name": "stdout",
     "output_type": "stream",
     "text": [
      "Before deletion : \n",
      "43\n",
      "33\n",
      "23\n",
      "13\n",
      "11\n",
      "After deletion : \n",
      "43\n",
      "33\n",
      "23\n",
      "11\n"
     ]
    }
   ],
   "source": [
    "class node:\n",
    "    def __init__(self, data):\n",
    "        self.data = data\n",
    "        self.next = None\n",
    "        \n",
    "class LList:\n",
    "    def __init__(self):\n",
    "        self.head = None\n",
    "        \n",
    "    def printList(self):\n",
    "        temp = self.head\n",
    "        while(temp):\n",
    "            print(temp.data)\n",
    "            temp = temp.next\n",
    "            \n",
    "    def push(self, new_data):\n",
    "        new_node = Node(new_data)\n",
    "        new_node.next = self.head\n",
    "        self.head = new_node\n",
    "        \n",
    "    def DeleteAt(self, pos):\n",
    "        if self.head is None:\n",
    "            return\n",
    "        \n",
    "        index = 0\n",
    "        current = self.head\n",
    "        while current.next and index < pos:\n",
    "            prev = current\n",
    "            current = current.next\n",
    "            index+=1\n",
    "        if index < pos:\n",
    "            print(\"index out of range!!\")\n",
    "        elif index == 0:\n",
    "            self.head = self.head.next\n",
    "        else:\n",
    "            prev.next = current.next\n",
    "            current = None\n",
    "        \n",
    "if __name__ == '__main__':\n",
    "    ll = LList()\n",
    "    ll.push(11)\n",
    "    ll.push(13)\n",
    "    ll.push(23)\n",
    "    ll.push(33)\n",
    "    ll.push(43)\n",
    "    print(\"Before deletion : \")\n",
    "    ll.printList()\n",
    "    ll.DeleteAt(3)\n",
    "    print(\"After deletion : \")\n",
    "    ll.printList()"
   ]
  },
  {
   "cell_type": "markdown",
   "id": "bcf51725",
   "metadata": {},
   "source": [
    "# Get count of no of nodes in linked list"
   ]
  },
  {
   "cell_type": "code",
   "execution_count": 16,
   "id": "b3b433fe",
   "metadata": {},
   "outputs": [
    {
     "name": "stdout",
     "output_type": "stream",
     "text": [
      "5\n",
      "7\n",
      "9\n",
      "number of nodes in the given linked list are :3 \n"
     ]
    }
   ],
   "source": [
    "class Node:\n",
    "    def __init__(self, data):\n",
    "        self.data = data\n",
    "        self.next = None\n",
    "        \n",
    "class LList:\n",
    "    def __init__(self):\n",
    "        self.head = None\n",
    "    \n",
    "    def printList(self):\n",
    "        temp = self.head\n",
    "        while (temp):\n",
    "            print (temp.data)\n",
    "            temp = temp.next\n",
    "            \n",
    "    def getcount(self):\n",
    "        temp = self.head\n",
    "        count = 0\n",
    "        while(temp):\n",
    "            count+=1\n",
    "            temp = temp.next\n",
    "        return count\n",
    "            \n",
    "if __name__ == '__main__':\n",
    "    ll = LList()\n",
    "    ll.head = Node(5)\n",
    "    second = Node(7)\n",
    "    third = Node(9)\n",
    "    \n",
    "    ll.head.next = second;\n",
    "    second.next = third;\n",
    "    \n",
    "    ll.printList()\n",
    "    print(\"number of nodes in the given linked list are :%d \" % ll.getcount())"
   ]
  },
  {
   "cell_type": "code",
   "execution_count": 2,
   "id": "b2abeeb8",
   "metadata": {},
   "outputs": [
    {
     "name": "stdout",
     "output_type": "stream",
     "text": [
      "True\n",
      "5\n",
      "7\n",
      "9\n",
      "number of nodes in the given linked list are :3 \n",
      "9\n",
      "7\n",
      "5\n"
     ]
    }
   ],
   "source": [
    "class Node:\n",
    "    def __init__(self, data):\n",
    "        self.data = data\n",
    "        self.next = None\n",
    "        \n",
    "class LList:\n",
    "    def __init__(self):\n",
    "        self.head = None\n",
    "    \n",
    "    def printList(self):\n",
    "        temp = self.head\n",
    "        while (temp):\n",
    "            print (temp.data)\n",
    "            temp = temp.next\n",
    "            \n",
    "    def getcount(self):\n",
    "        temp = self.head\n",
    "        count = 0\n",
    "        while(temp):\n",
    "            count+=1\n",
    "            temp = temp.next\n",
    "        return count\n",
    "    \n",
    "    def search(self, x):\n",
    "        temp = self.head\n",
    "        v = []\n",
    "        while(temp):\n",
    "            v.append(temp.data)\n",
    "            temp = temp.next\n",
    "        if x in v:\n",
    "            return True\n",
    "        else:\n",
    "            return False\n",
    "        \n",
    "    def reverse(self):\n",
    "        prev = None\n",
    "        current = self.head\n",
    "        while(current is not None):\n",
    "            next = current.next\n",
    "            current.next = prev\n",
    "            prev = current\n",
    "            current = next\n",
    "        self.head = prev\n",
    "            \n",
    "if __name__ == '__main__':\n",
    "    ll = LList()\n",
    "    ll.head = Node(5)\n",
    "    second = Node(7)\n",
    "    third = Node(9)\n",
    "    \n",
    "    ll.head.next = second;\n",
    "    second.next = third;\n",
    "    \n",
    "    print(ll.search(7))\n",
    "    ll.printList()\n",
    "    print(\"number of nodes in the given linked list are :%d \" % ll.getcount())\n",
    "    ll.reverse()\n",
    "    ll.printList()"
   ]
  },
  {
   "cell_type": "code",
   "execution_count": null,
   "id": "c46d5a1f",
   "metadata": {},
   "outputs": [],
   "source": [
    "def reverse(self):\n",
    "        prev = None\n",
    "        current = self.head\n",
    "        while(current is not None):\n",
    "            next = current.next\n",
    "            current.next = prev\n",
    "            prev = current\n",
    "            current = next\n",
    "        self.head = prev"
   ]
  },
  {
   "cell_type": "markdown",
   "id": "a06e7fc1",
   "metadata": {},
   "source": [
    "# Stack"
   ]
  },
  {
   "cell_type": "code",
   "execution_count": 14,
   "id": "3ed623b6",
   "metadata": {},
   "outputs": [
    {
     "name": "stdout",
     "output_type": "stream",
     "text": [
      "elements of the stack are : \n",
      "1\n",
      "4\n",
      "9\n",
      "16\n",
      "25\n",
      "36\n",
      "popped element is : \n",
      "36\n",
      "elements after pop are : \n",
      "1\n",
      "4\n",
      "9\n",
      "16\n",
      "25\n",
      "elements after push : \n",
      "1\n",
      "4\n",
      "9\n",
      "16\n",
      "25\n",
      "49\n"
     ]
    }
   ],
   "source": [
    "class stack:\n",
    "    def __init__(self):\n",
    "        self.stack = []\n",
    "        \n",
    "    def pushele(self, val):\n",
    "        self.stack.append(val)\n",
    "        \n",
    "    def delete(self):\n",
    "        print(self.stack.pop())\n",
    "        \n",
    "    def display(self):\n",
    "        for self.x in self.stack:\n",
    "            print(self.x)\n",
    "            \n",
    "obj = stack()\n",
    "obj.pushele(1)\n",
    "obj.pushele(4)\n",
    "obj.pushele(9)\n",
    "obj.pushele(16)\n",
    "obj.pushele(25)\n",
    "obj.pushele(36)\n",
    "\n",
    "print(\"elements of the stack are : \")\n",
    "obj.display()\n",
    "\n",
    "print(\"popped element is : \")\n",
    "obj.delete()\n",
    "\n",
    "print(\"elements after pop are : \")\n",
    "obj.display()\n",
    "\n",
    "obj.pushele(49)\n",
    "print(\"elements after push : \")\n",
    "obj.display()"
   ]
  },
  {
   "cell_type": "markdown",
   "id": "9f923457",
   "metadata": {},
   "source": [
    "# infix to postfix using stack"
   ]
  },
  {
   "cell_type": "code",
   "execution_count": 6,
   "id": "f31efe79",
   "metadata": {},
   "outputs": [
    {
     "name": "stdout",
     "output_type": "stream",
     "text": [
      "AB+CDE/*-F+\n"
     ]
    }
   ],
   "source": [
    "def prec(c):\n",
    "    if c == '^':\n",
    "        return 3\n",
    "    elif c == '*' or c == '/':\n",
    "        return 2\n",
    "    elif c == '+' or c == '-':\n",
    "        return 1\n",
    "    else:\n",
    "        return -1\n",
    "    \n",
    "def associativity(c):\n",
    "    if c == '^':\n",
    "        return 'R'\n",
    "    return 'L'\n",
    "\n",
    "def infix_to_postfix(s):\n",
    "    result = []\n",
    "    stack = []\n",
    "    \n",
    "    for i in range(len(s)):\n",
    "        c = s[i]\n",
    "        if 'a'<= c >= 'z' or 'A' <= c >= 'Z' or '0' <= c >= '9':\n",
    "            result.append(c)\n",
    "            \n",
    "        elif c == '(':\n",
    "            stack.append(c)\n",
    "            \n",
    "        elif c == ')':\n",
    "            while stack and stack[-1] != '(':\n",
    "                result.append(stack.pop())\n",
    "            stack.pop() #( -> pop\n",
    "            \n",
    "        else:\n",
    "            while stack and (prec(s[i]) < prec(stack[-1]) or (prec(s[i]) == prec(stack[-1]) and associativity(s[i]) == 'L')):\n",
    "                result.append(stack.pop())\n",
    "            stack.append(c)\n",
    "            \n",
    "    while stack:\n",
    "        result.append(stack.pop())\n",
    "        \n",
    "    print(''.join(result))\n",
    "    \n",
    "exp = \"((A+B)-C*(D/E))+F\"\n",
    "infix_to_postfix(exp)"
   ]
  },
  {
   "cell_type": "markdown",
   "id": "115ac44e",
   "metadata": {},
   "source": [
    "# prefix to infix"
   ]
  },
  {
   "cell_type": "code",
   "execution_count": 11,
   "id": "7766495c",
   "metadata": {},
   "outputs": [
    {
     "name": "stdout",
     "output_type": "stream",
     "text": [
      "((A-(B/C))*((A/K)-L))\n"
     ]
    }
   ],
   "source": [
    "def prefix_to_infix(s):\n",
    "    stack = []\n",
    "    i = len(s) - 1\n",
    "    while i >= 0:\n",
    "        if not isOperator(s[i]):\n",
    "            stack.append(s[i])\n",
    "            i-=1\n",
    "        else:\n",
    "            str1 = '(' + stack.pop() + s[i] + stack.pop() + ')'\n",
    "            stack.append(str1)\n",
    "            i-=1\n",
    "            \n",
    "    return stack.pop()\n",
    "\n",
    "def isOperator(c):\n",
    "    if c == '+' or c == '-' or c == '*' or c == '/' or c == '^' or c == '(' or c ==')':\n",
    "        return True\n",
    "    return False\n",
    "\n",
    "if __name__ == '__main__':\n",
    "    exp = '*-A/BC-/AKL'\n",
    "    print(prefix_to_infix(exp))  #((A-(B/C))*((A/K)-L))"
   ]
  },
  {
   "cell_type": "markdown",
   "id": "32c33017",
   "metadata": {},
   "source": [
    "# prefix to postfix"
   ]
  },
  {
   "cell_type": "code",
   "execution_count": 18,
   "id": "c4f9d70b",
   "metadata": {},
   "outputs": [
    {
     "name": "stdout",
     "output_type": "stream",
     "text": [
      "ABC/-AK/L-*\n"
     ]
    }
   ],
   "source": [
    "def prefix_to_postfix(s):\n",
    "    stack = []\n",
    "    i = len(s) - 1\n",
    "    while i >= 0:\n",
    "        if not isoperator(s[i]):\n",
    "            stack.append(s[i])\n",
    "            i-=1\n",
    "        else:\n",
    "            str1 = stack.pop() + stack.pop() + s[i]\n",
    "            stack.append(str1)\n",
    "            i-=1\n",
    "    return stack.pop()\n",
    "def isoperator(c):\n",
    "    if c == '+' or c == '-' or c == '/' or c == '*' or c == '^' or c == '(' or c == ')':\n",
    "        return True\n",
    "    return False\n",
    "\n",
    "if __name__ == '__main__':\n",
    "    exp = '*-A/BC-/AKL'\n",
    "    print(prefix_to_postfix(exp))"
   ]
  },
  {
   "cell_type": "markdown",
   "id": "a95debdc",
   "metadata": {},
   "source": [
    "# postfix to prefix"
   ]
  },
  {
   "cell_type": "code",
   "execution_count": 15,
   "id": "09475d05",
   "metadata": {},
   "outputs": [
    {
     "name": "stdout",
     "output_type": "stream",
     "text": [
      "*+AB-CD\n"
     ]
    }
   ],
   "source": [
    "def postfix_to_prefix(s):\n",
    "    stack = []\n",
    "    for i in range(len(s)):\n",
    "        if not isoperator(s[i]):\n",
    "            stack.append(s[i])\n",
    "        else:\n",
    "            op1 = stack[-1]\n",
    "            stack.pop()\n",
    "            op2 = stack[-1]\n",
    "            stack.pop()\n",
    "            str1 = s[i]+op2+op1\n",
    "            stack.append(str1)\n",
    "    return stack.pop()\n",
    "def isoperator(c):\n",
    "    if c == '+' or c == '-' or c == '*' or c == '/' or c == '^' or c == '(' or c == ')':\n",
    "        return True\n",
    "    return False\n",
    "if __name__ == '__main__':\n",
    "    exp = \"AB+CD-*\"\n",
    "    print(postfix_to_prefix(exp))"
   ]
  },
  {
   "cell_type": "markdown",
   "id": "4f64dcd8",
   "metadata": {},
   "source": [
    "# postfix to infix"
   ]
  },
  {
   "cell_type": "code",
   "execution_count": 19,
   "id": "e61242ab",
   "metadata": {},
   "outputs": [
    {
     "name": "stdout",
     "output_type": "stream",
     "text": [
      "((A-(B/C))*((A/K)-L))\n"
     ]
    }
   ],
   "source": [
    "def postfix_to_infix(s):\n",
    "    stack = []\n",
    "    for i in range(len(s)):\n",
    "        if not isoperator(s[i]):\n",
    "            stack.append(s[i])\n",
    "        else:\n",
    "            op1 = stack[-1]\n",
    "            stack.pop()\n",
    "            op2 = stack[-1]\n",
    "            stack.pop()\n",
    "            str1 = '(' + op2 + s[i] + op1 + ')'\n",
    "            stack.append(str1)\n",
    "    return stack.pop()\n",
    "def isoperator(c):\n",
    "    if c == '+' or c == '-' or c == '*' or c == '/' or c == '^' or c == '(' or c == ')':\n",
    "        return True\n",
    "    return False\n",
    "\n",
    "if __name__ == '__main__':\n",
    "    exp = \"ABC/-AK/L-*\"\n",
    "    print(postfix_to_infix(exp))"
   ]
  },
  {
   "cell_type": "markdown",
   "id": "961f983d",
   "metadata": {},
   "source": [
    "# check for balanced brackets in an expression (well-formedness)"
   ]
  },
  {
   "cell_type": "code",
   "execution_count": 8,
   "id": "4b3aa5d1",
   "metadata": {},
   "outputs": [
    {
     "name": "stdout",
     "output_type": "stream",
     "text": [
      "not balanced\n"
     ]
    }
   ],
   "source": [
    "def isBalanced(s):\n",
    "    stack = []\n",
    "    for ch in s:\n",
    "        if ch == '(' or ch == '{' or ch == '[':\n",
    "            stack.append(ch)\n",
    "        else:\n",
    "            if stack and ((stack[-1] == '(' and ch == ')') or (stack[-1] == '{' and ch == '}') or (stack[-1] == '[' and ch == ']')):\n",
    "                stack.pop()\n",
    "            else:\n",
    "                return False\n",
    "    return not stack\n",
    "\n",
    "exp = \"{()[}]\"\n",
    "\n",
    "if isBalanced(exp):\n",
    "    print(\"balanced \")\n",
    "else:\n",
    "    print(\"not balanced\")"
   ]
  },
  {
   "cell_type": "markdown",
   "id": "38a034f4",
   "metadata": {},
   "source": [
    "# evaluate postfix expression"
   ]
  },
  {
   "cell_type": "code",
   "execution_count": 28,
   "id": "5fa9a0e4",
   "metadata": {},
   "outputs": [
    {
     "data": {
      "text/plain": [
       "-4"
      ]
     },
     "execution_count": 28,
     "metadata": {},
     "output_type": "execute_result"
    }
   ],
   "source": [
    "def isoperator(char):\n",
    "    return char in ['+', '-', '*', '/']\n",
    "\n",
    "def post_to_infix(s):\n",
    "    stack = []\n",
    "    for i in range(len(s)):\n",
    "        if not isoperator(s[i]):\n",
    "            stack.append(s[i])\n",
    "        else:\n",
    "            op1 = stack[-1]\n",
    "            stack.pop()\n",
    "            op2 = stack[-1]\n",
    "            stack.pop()\n",
    "            if s[i] == '+':\n",
    "                stack.append(int(op2) + int(op1))\n",
    "            elif s[i] == '-':\n",
    "                stack.append(int(op2) - int(op1))\n",
    "            elif s[i] == '*':\n",
    "                stack.append(int(op2) * int(op1))\n",
    "            elif s[i] == '+/':\n",
    "                stack.append(int(op2) // int(op1))\n",
    "    return stack.pop()\n",
    "exp = \"231*+9-\"\n",
    "post_to_infix(exp)"
   ]
  },
  {
   "cell_type": "markdown",
   "id": "d5606d47",
   "metadata": {},
   "source": [
    "# reverse string using stack"
   ]
  },
  {
   "cell_type": "code",
   "execution_count": 17,
   "id": "35578606",
   "metadata": {},
   "outputs": [
    {
     "name": "stdout",
     "output_type": "stream",
     "text": [
      "r d lapogunev\n"
     ]
    }
   ],
   "source": [
    "def reverse(s):\n",
    "    stack = []\n",
    "    l = len(s)\n",
    "    for i in range(l):\n",
    "        stack.append(s[i])\n",
    "    s = \"\"\n",
    "    while stack:\n",
    "        s+=stack.pop()\n",
    "        \n",
    "    return s\n",
    "\n",
    "string = \"venugopal d r\"\n",
    "print(reverse(string))"
   ]
  },
  {
   "cell_type": "markdown",
   "id": "1d7500ce",
   "metadata": {},
   "source": [
    "# print second largest element"
   ]
  },
  {
   "cell_type": "code",
   "execution_count": 19,
   "id": "a9fad84e",
   "metadata": {},
   "outputs": [
    {
     "name": "stdout",
     "output_type": "stream",
     "text": [
      "Second largest element: 45\n"
     ]
    }
   ],
   "source": [
    "def find_second_largest(arr):\n",
    "    # Initialize first and second largest elements\n",
    "    first_max = second_max = float('-inf')\n",
    "\n",
    "    # Traverse the list\n",
    "    for num in arr:\n",
    "        # Update first_max if current element is greater\n",
    "        if num > first_max:\n",
    "            second_max = first_max\n",
    "            first_max = num\n",
    "        # Update second_max if current element is greater than second_max\n",
    "        elif num > second_max and num != first_max:\n",
    "            second_max = num\n",
    "\n",
    "    # Check if second_max is updated\n",
    "    if second_max == float('-inf'):\n",
    "        return \"There is no second largest element.\"\n",
    "    else:\n",
    "        return second_max\n",
    "\n",
    "# Example usage:\n",
    "my_list = [10, 20, 4, 45, 99]\n",
    "print(\"Second largest element:\", find_second_largest(my_list))\n"
   ]
  },
  {
   "cell_type": "markdown",
   "id": "c3959cd5",
   "metadata": {},
   "source": [
    "# Queue"
   ]
  },
  {
   "cell_type": "code",
   "execution_count": 27,
   "id": "8964bc4a",
   "metadata": {},
   "outputs": [
    {
     "name": "stdout",
     "output_type": "stream",
     "text": [
      "elements after pushing elements into queue : \n",
      "1\n",
      "2\n",
      "3\n",
      "4\n",
      "5\n",
      "element popped from queue : \n",
      "1\n",
      "elements in queue after popping : \n",
      "2\n",
      "3\n",
      "4\n",
      "5\n",
      "elements in queue after pushing : \n",
      "2\n",
      "3\n",
      "4\n",
      "5\n",
      "10\n"
     ]
    }
   ],
   "source": [
    "class queue:\n",
    "    def __init__(self):\n",
    "        self.queue = []\n",
    "    def push(self, ele):\n",
    "        self.queue.append(ele)\n",
    "    def popq(self):\n",
    "        print(self.queue.pop(0))\n",
    "    def display(self):\n",
    "        for i in self.queue:\n",
    "            print(i)\n",
    "            \n",
    "obj = queue()\n",
    "obj.push(1)\n",
    "obj.push(2)\n",
    "obj.push(3)\n",
    "obj.push(4)\n",
    "obj.push(5)\n",
    "\n",
    "print(\"elements after pushing elements into queue : \")\n",
    "obj.display()\n",
    "\n",
    "print(\"element popped from queue : \")\n",
    "obj.popq()\n",
    "\n",
    "print(\"elements in queue after popping : \")\n",
    "obj.display()\n",
    "\n",
    "obj.push(10)\n",
    "print(\"elements in queue after pushing : \")\n",
    "obj.display()"
   ]
  },
  {
   "cell_type": "markdown",
   "id": "452af47d",
   "metadata": {},
   "source": [
    "# Priority Queue"
   ]
  },
  {
   "cell_type": "code",
   "execution_count": 30,
   "id": "fbabed4d",
   "metadata": {},
   "outputs": [
    {
     "name": "stdout",
     "output_type": "stream",
     "text": [
      "12 1 14 7\n",
      "14\n",
      "12\n",
      "7\n",
      "1\n"
     ]
    }
   ],
   "source": [
    "# A simple implementation of Priority Queue using Queue.\n",
    "\n",
    "class PriorityQueue:\n",
    "    \n",
    "    def __init__(self):\n",
    "        self.queue = []\n",
    "        \n",
    "    def __str__(self):\n",
    "        return ' '.join([str(i) for i in self.queue])\n",
    "\n",
    "# for checking if the queue is empty\n",
    "    def isEmpty(self):\n",
    "        return len(self.queue) == 0\n",
    "\n",
    "# for inserting an element in the queue\n",
    "    def insert(self, data):\n",
    "        self.queue.append(data)\n",
    "\n",
    "# for popping an element based on Priority\n",
    "    def delete(self):\n",
    "        try:\n",
    "            max = 0\n",
    "            for i in range(len(self.queue)):\n",
    "                if self.queue[i] > self.queue[max]:\n",
    "                    max = i\n",
    "            item = self.queue[max]\n",
    "            del self.queue[max]\n",
    "            return item\n",
    "        except IndexError:\n",
    "            print()\n",
    "            exit()\n",
    "\n",
    "if __name__ == '__main__':\n",
    "    myQueue = PriorityQueue()\n",
    "    myQueue.insert(12)\n",
    "    myQueue.insert(1)\n",
    "    myQueue.insert(14)\n",
    "    myQueue.insert(7)\n",
    "    print(myQueue)\n",
    "    while not myQueue.isEmpty():\n",
    "        print(myQueue.delete())\n"
   ]
  },
  {
   "cell_type": "code",
   "execution_count": null,
   "id": "0319fa0a",
   "metadata": {},
   "outputs": [],
   "source": []
  }
 ],
 "metadata": {
  "kernelspec": {
   "display_name": "Python 3 (ipykernel)",
   "language": "python",
   "name": "python3"
  },
  "language_info": {
   "codemirror_mode": {
    "name": "ipython",
    "version": 3
   },
   "file_extension": ".py",
   "mimetype": "text/x-python",
   "name": "python",
   "nbconvert_exporter": "python",
   "pygments_lexer": "ipython3",
   "version": "3.10.9"
  }
 },
 "nbformat": 4,
 "nbformat_minor": 5
}
